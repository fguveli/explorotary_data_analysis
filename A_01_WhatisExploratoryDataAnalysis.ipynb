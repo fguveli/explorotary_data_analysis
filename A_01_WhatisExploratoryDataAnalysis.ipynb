{
 "cells": [
  {
   "cell_type": "markdown",
   "metadata": {},
   "source": [
    "Assignments for \"What is Exploratory Data Analysis?\""
   ]
  },
  {
   "cell_type": "markdown",
   "metadata": {},
   "source": [
    "**(1)** What is the purpose the data exploration?"
   ]
  },
  {
   "cell_type": "markdown",
   "metadata": {},
   "source": [
    "Discovering data via visualization and statistical techniques. If there is a problem with data set, it can be determined with data exploration processes. Also, patterns and relations between features can be discovered, which helps data scientist to understand dataset better."
   ]
  },
  {
   "cell_type": "markdown",
   "metadata": {},
   "source": [
    "**(2)** Suppose you are working on a dataset containing customer reviews of an e-commerce company's products. Customer reviews collected through the company's website are rated between 1 and 5 depending on whether the content is positive or negative.\n",
    "    - What kind of problems do you expect to encounter in this raw data?\n",
    "    - What kind of problems do you expect to encounter in this raw data?\n",
    "    - If your task is to identify the characteristics that reveal that the customers' comments are positive or negative, how would you do that and what methods would you use for this?\n",
    "    - What are the useful features that can be extracted from raw data? How can you access this data and understand whether it is useful?"
   ]
  },
  {
   "cell_type": "markdown",
   "metadata": {},
   "source": [
    "Problems that are possible to seen are, comments can be missing, people can only give ratings to products. Customers point and given rating can be incompatible. People can give low ratings just to be seen on comments section.\n",
    "To detect whether a comment is positive or negative, rating is meaningful data. Two of them can be analyzed together. Also keywords such as \"useful, good, happy, satisfied\" can be indicator of good review. These words can be investigated mmmin comments. "
   ]
  },
  {
   "cell_type": "markdown",
   "metadata": {},
   "source": [
    "**(3)** Why do you think missing values should be taking care of?"
   ]
  },
  {
   "cell_type": "markdown",
   "metadata": {},
   "source": [
    "To use other columns of that row we need to fill missing value. Otherwise empty value will effect the our data."
   ]
  },
  {
   "cell_type": "markdown",
   "metadata": {},
   "source": [
    "**(4)** Do you think that outliers have an impact on a dataset? If so, how would you explain this impact?"
   ]
  },
  {
   "cell_type": "markdown",
   "metadata": {},
   "source": [
    "Yes. Outliers can cause skewness to our data. For example, our dataset mean can be bigger than expected since outlier value make it bigger. Also they increase standard deviation."
   ]
  },
  {
   "cell_type": "markdown",
   "metadata": {},
   "source": [
    "**(5)** Please briefly summarize you first actions when you start analyzing the data?"
   ]
  },
  {
   "cell_type": "markdown",
   "metadata": {},
   "source": [
    "First, a dataframe is created for dataset. Then by using pandas describe function, short statistical analyse can be made. Mean, min, max values can be seen. After that, histogram can be plotted. That will give an opinion about distribution of data. Outliers can be detected by these two steps. After operations on outliers and missing values, dataset will be ready to work on."
   ]
  }
 ],
 "metadata": {
  "kernelspec": {
   "display_name": "Python 3",
   "language": "python",
   "name": "python3"
  },
  "language_info": {
   "codemirror_mode": {
    "name": "ipython",
    "version": 3
   },
   "file_extension": ".py",
   "mimetype": "text/x-python",
   "name": "python",
   "nbconvert_exporter": "python",
   "pygments_lexer": "ipython3",
   "version": "3.8.3"
  }
 },
 "nbformat": 4,
 "nbformat_minor": 4
}
