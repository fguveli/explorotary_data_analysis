{
 "cells": [
  {
   "cell_type": "markdown",
   "metadata": {},
   "source": [
    "# <font color=blue>Assignments for \"Data Cleaning - Variable Types\"</font>"
   ]
  },
  {
   "cell_type": "markdown",
   "metadata": {},
   "source": [
    "**(1)** Determine the types of the below-given variables:\n",
    "- Age\n",
    "- Salary\n",
    "- Income\n",
    "- Customer type\n",
    "- Stock price "
   ]
  },
  {
   "cell_type": "markdown",
   "metadata": {},
   "source": [
    "Age: Continous or discrete. Depends on problem\n",
    "\n",
    "Salary: Continous - Interval\n",
    "\n",
    "Income: Continous - Interval\n",
    "\n",
    "Customer type: Categorical - Nominal or Ordinal. Depends on category method.\n",
    "\n",
    "Stock price: Continous"
   ]
  },
  {
   "cell_type": "markdown",
   "metadata": {},
   "source": [
    "**(2)** Using the `movie` data, we have studied in this lesson. Complete the following tasks:\n",
    "    * Select a variable from the `movie` dataset and discuss the variable type of this variable\n",
    "    * Categorize a variable of your choice and assign a name to it\n",
    "    * Count the number of rows for each category"
   ]
  },
  {
   "cell_type": "code",
   "execution_count": 3,
   "metadata": {},
   "outputs": [],
   "source": [
    "import numpy as np\n",
    "import pandas as pd\n",
    "\n",
    "movie = pd.read_csv(\"movie_metadata.csv\")"
   ]
  },
  {
   "cell_type": "code",
   "execution_count": 18,
   "metadata": {},
   "outputs": [
    {
     "name": "stdout",
     "output_type": "stream",
     "text": [
      "Number of critic review is a discrete variable. Number can be increased one by one. It cannot have any value.\n",
      "actor_1_facebook_likes column can be converted a categorized column. Like counts of actor1 can be categorized superstar, famous, not-wellknown\n"
     ]
    },
    {
     "data": {
      "text/plain": [
       "Actor Recognition\n",
       "Famous           1370\n",
       "Not wellknown    3649\n",
       "Superstar          17\n",
       "Name: actor_1_facebook_likes, dtype: int64"
      ]
     },
     "execution_count": 18,
     "metadata": {},
     "output_type": "execute_result"
    }
   ],
   "source": [
    "#Answers to questions.\n",
    "print('Number of critic review is a discrete variable. Number can be increased one by one. It cannot have any value.' )\n",
    "print('actor_1_facebook_likes column can be converted a categorized column. Like counts of actor1 can be categorized superstar, famous, not-wellknown')\n",
    "\n",
    "#Creating a function, takes like count as argument return string as category\n",
    "def actorLikeCategory(like):\n",
    "    if like > 50000:\n",
    "        return 'Superstar'\n",
    "    elif like > 10000:\n",
    "        return 'Famous'\n",
    "    else:\n",
    "        return 'Not wellknown'\n",
    "    \n",
    "#Applying function to new column\n",
    "movie['Actor Recognition'] = movie['actor_1_facebook_likes'].apply(actorLikeCategory)\n",
    "\n",
    "#New column numbers calculation with groupby\n",
    "movie.groupby('Actor Recognition')['actor_1_facebook_likes'].count()"
   ]
  },
  {
   "cell_type": "markdown",
   "metadata": {},
   "source": [
    "**(3)** Is it possible to convert categorical variable into numerical one? If so, how can you make that?"
   ]
  },
  {
   "cell_type": "markdown",
   "metadata": {},
   "source": [
    "No, it is not possible. By assigning numbers to categories we can have values as numbers but that can be still categoric."
   ]
  },
  {
   "cell_type": "markdown",
   "metadata": {},
   "source": [
    "**(4)** While continuous data is generally preferred over discrete data, please indicate circumstances where discrete is the preferred data type although continuous data is available for the same characteristic."
   ]
  },
  {
   "cell_type": "markdown",
   "metadata": {},
   "source": [
    "Discrete data is useful is data is going to be categorized or grouped. Age is a continous variable however using it as a discrete variable is useful, if income of people according to age will be calculated."
   ]
  },
  {
   "cell_type": "markdown",
   "metadata": {},
   "source": [
    "**(5)** While continuous data is measured and attribute data is counted, there is sometimes confusion if some specific dataset should be considered continuous or attribute. Provide some examples of confusing datasets and your inference. "
   ]
  },
  {
   "cell_type": "markdown",
   "metadata": {},
   "source": [
    "Age can be continous or discrete.\n",
    "\n",
    "Date if we use it as datetime it is continous data, if we use it as months of year it will be discrete.\n"
   ]
  }
 ],
 "metadata": {
  "kernelspec": {
   "display_name": "Python 3",
   "language": "python",
   "name": "python3"
  },
  "language_info": {
   "codemirror_mode": {
    "name": "ipython",
    "version": 3
   },
   "file_extension": ".py",
   "mimetype": "text/x-python",
   "name": "python",
   "nbconvert_exporter": "python",
   "pygments_lexer": "ipython3",
   "version": "3.8.3"
  }
 },
 "nbformat": 4,
 "nbformat_minor": 4
}
